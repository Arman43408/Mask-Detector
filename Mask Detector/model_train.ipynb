{
 "cells": [
  {
   "cell_type": "code",
   "execution_count": 1,
   "id": "227d51cf",
   "metadata": {
    "_cell_guid": "b1076dfc-b9ad-4769-8c92-a6c4dae69d19",
    "_uuid": "8f2839f25d086af736a60e9eeb907d3b93b6e0e5",
    "execution": {
     "iopub.execute_input": "2023-04-24T17:10:01.664799Z",
     "iopub.status.busy": "2023-04-24T17:10:01.664343Z",
     "iopub.status.idle": "2023-04-24T17:10:08.771073Z",
     "shell.execute_reply": "2023-04-24T17:10:08.769946Z"
    },
    "papermill": {
     "duration": 7.118047,
     "end_time": "2023-04-24T17:10:08.773661",
     "exception": false,
     "start_time": "2023-04-24T17:10:01.655614",
     "status": "completed"
    },
    "tags": []
   },
   "outputs": [],
   "source": [
    "import os\n",
    "import cv2\n",
    "import pickle\n",
    "import numpy as np\n",
    "import xml.etree.ElementTree as ET\n",
    "import matplotlib.pyplot as plt\n",
    "%matplotlib inline\n",
    "from tensorflow.keras.utils import to_categorical"
   ]
  },
  {
   "cell_type": "code",
   "execution_count": 2,
   "id": "b0eb805c",
   "metadata": {
    "execution": {
     "iopub.execute_input": "2023-04-24T17:10:08.788065Z",
     "iopub.status.busy": "2023-04-24T17:10:08.786864Z",
     "iopub.status.idle": "2023-04-24T17:10:08.792288Z",
     "shell.execute_reply": "2023-04-24T17:10:08.791377Z"
    },
    "papermill": {
     "duration": 0.014641,
     "end_time": "2023-04-24T17:10:08.794563",
     "exception": false,
     "start_time": "2023-04-24T17:10:08.779922",
     "status": "completed"
    },
    "tags": []
   },
   "outputs": [],
   "source": [
    "image_dir = '/kaggle/input/face-mask-detection/images'\n",
    "annot_dir = '/kaggle/input/face-mask-detection/annotations'"
   ]
  },
  {
   "cell_type": "code",
   "execution_count": null,
   "id": "3cfcfec3",
   "metadata": {
    "execution": {
     "iopub.execute_input": "2023-04-24T17:10:08.807923Z",
     "iopub.status.busy": "2023-04-24T17:10:08.807096Z",
     "iopub.status.idle": "2023-04-24T17:10:11.637580Z",
     "shell.execute_reply": "2023-04-24T17:10:11.636383Z"
    },
    "papermill": {
     "duration": 2.839275,
     "end_time": "2023-04-24T17:10:11.639783",
     "exception": false,
     "start_time": "2023-04-24T17:10:08.800508",
     "status": "completed"
    },
    "tags": []
   },
   "outputs": [],
   "source": [
    "label2category = {'without_mask': 0, 'with_mask': 1, 'mask_weared_incorrect': 2}\n",
    "category2label = {v: k for k, v in label2category.items()}\n",
    "datas= []\n",
    "\n",
    "for root, dirs, files in os.walk(annot_dir):\n",
    "    for file in files:\n",
    "        tree = ET.parse(os.path.join(root, file))\n",
    "        data = {'path': None, 'objects': []}\n",
    "        data['path'] = os.path.join(image_dir, tree.find('filename').text)\n",
    "        for obj in tree.findall('object'):\n",
    "            label = label2category[obj.find('name').text]\n",
    "            # top left co-ordinates\n",
    "            xmin = int(obj.find('bndbox/xmin').text)\n",
    "            ymin = int(obj.find('bndbox/ymin').text)\n",
    "            # bottom right co-ordinates\n",
    "            xmax = int(obj.find('bndbox/xmax').text)\n",
    "            ymax = int(obj.find('bndbox/ymax').text)\n",
    "            data['objects'].append([label, xmin, ymin, xmax, ymax])\n",
    "        datas.append(data)\n",
    "\n",
    "print('Total images :', len(datas))"
   ]
  },
  {
   "cell_type": "code",
   "execution_count": null,
   "id": "5ad2b6f4",
   "metadata": {
    "execution": {
     "iopub.execute_input": "2023-04-24T17:10:11.653185Z",
     "iopub.status.busy": "2023-04-24T17:10:11.652887Z",
     "iopub.status.idle": "2023-04-24T17:10:12.005011Z",
     "shell.execute_reply": "2023-04-24T17:10:12.003287Z"
    },
    "papermill": {
     "duration": 0.36282,
     "end_time": "2023-04-24T17:10:12.008854",
     "exception": false,
     "start_time": "2023-04-24T17:10:11.646034",
     "status": "completed"
    },
    "tags": []
   },
   "outputs": [],
   "source": [
    "index = np.random.randint(0, len(datas))\n",
    "img = cv2.imread(datas[index]['path'])\n",
    "for (category, xmin, ymin, xmax, ymax) in datas[index]['objects']:\n",
    "    # Draw bounding boxes\n",
    "    cv2.rectangle(img, (xmin, ymin), (xmax, ymax), (0, 255, 0), 1)\n",
    "    cv2.putText(img, str(category), (xmin+2, ymin-3), cv2.FONT_HERSHEY_SIMPLEX, 0.38, (255,255,255), 2)\n",
    "# Show image\n",
    "plt.figure(figsize=(10, 6))\n",
    "plt.imshow(cv2.cvtColor(img, cv2.COLOR_BGR2RGB))\n",
    "plt.show()"
   ]
  },
  {
   "cell_type": "code",
   "execution_count": 5,
   "id": "1868b6f6",
   "metadata": {
    "execution": {
     "iopub.execute_input": "2023-04-24T17:10:12.026804Z",
     "iopub.status.busy": "2023-04-24T17:10:12.026509Z",
     "iopub.status.idle": "2023-04-24T17:10:29.716049Z",
     "shell.execute_reply": "2023-04-24T17:10:29.714921Z"
    },
    "papermill": {
     "duration": 17.70175,
     "end_time": "2023-04-24T17:10:29.718979",
     "exception": false,
     "start_time": "2023-04-24T17:10:12.017229",
     "status": "completed"
    },
    "tags": []
   },
   "outputs": [],
   "source": [
    "img_size = (100, 100)\n",
    "X = []\n",
    "Y = []\n",
    "\n",
    "for data in datas:\n",
    "    img = cv2.imread(data['path'])\n",
    "    for (category, xmin, ymin, xmax, ymax) in data['objects']:\n",
    "        roi = img[ymin : ymax, xmin : xmax]\n",
    "        roi = cv2.resize(roi, (100, 100))\n",
    "        data = cv2.cvtColor(roi, cv2.COLOR_BGR2RGB)\n",
    "        target = to_categorical(category, num_classes=len(category2label))\n",
    "        X.append(data)\n",
    "        Y.append(target)\n",
    "        \n",
    "X = np.array(X)\n",
    "Y = np.array(Y)"
   ]
  },
  {
   "cell_type": "code",
   "execution_count": 6,
   "id": "c5bf98b2",
   "metadata": {
    "execution": {
     "iopub.execute_input": "2023-04-24T17:10:29.737575Z",
     "iopub.status.busy": "2023-04-24T17:10:29.737246Z",
     "iopub.status.idle": "2023-04-24T17:10:30.688722Z",
     "shell.execute_reply": "2023-04-24T17:10:30.687480Z"
    },
    "papermill": {
     "duration": 0.963385,
     "end_time": "2023-04-24T17:10:30.691407",
     "exception": false,
     "start_time": "2023-04-24T17:10:29.728022",
     "status": "completed"
    },
    "tags": []
   },
   "outputs": [
    {
     "name": "stdout",
     "output_type": "stream",
     "text": [
      "__notebook__.ipynb\r\n"
     ]
    }
   ],
   "source": [
    "!ls"
   ]
  },
  {
   "cell_type": "code",
   "execution_count": 7,
   "id": "d23e6b1e",
   "metadata": {
    "execution": {
     "iopub.execute_input": "2023-04-24T17:10:30.710073Z",
     "iopub.status.busy": "2023-04-24T17:10:30.709737Z",
     "iopub.status.idle": "2023-04-24T17:10:30.715857Z",
     "shell.execute_reply": "2023-04-24T17:10:30.714432Z"
    },
    "papermill": {
     "duration": 0.017861,
     "end_time": "2023-04-24T17:10:30.717962",
     "exception": false,
     "start_time": "2023-04-24T17:10:30.700101",
     "status": "completed"
    },
    "tags": []
   },
   "outputs": [],
   "source": [
    "os.makedirs('/kaggle/working/data')"
   ]
  },
  {
   "cell_type": "code",
   "execution_count": 8,
   "id": "c4de2302",
   "metadata": {
    "execution": {
     "iopub.execute_input": "2023-04-24T17:10:30.741285Z",
     "iopub.status.busy": "2023-04-24T17:10:30.739594Z",
     "iopub.status.idle": "2023-04-24T17:10:30.830302Z",
     "shell.execute_reply": "2023-04-24T17:10:30.829254Z"
    },
    "papermill": {
     "duration": 0.102921,
     "end_time": "2023-04-24T17:10:30.833025",
     "exception": false,
     "start_time": "2023-04-24T17:10:30.730104",
     "status": "completed"
    },
    "tags": []
   },
   "outputs": [],
   "source": [
    "np.save('/kaggle/working/data/X', X)\n",
    "np.save('/kaggle/working/data/Y', Y)"
   ]
  },
  {
   "cell_type": "code",
   "execution_count": 9,
   "id": "9310c947",
   "metadata": {
    "execution": {
     "iopub.execute_input": "2023-04-24T17:10:30.851858Z",
     "iopub.status.busy": "2023-04-24T17:10:30.851562Z",
     "iopub.status.idle": "2023-04-24T17:10:30.856985Z",
     "shell.execute_reply": "2023-04-24T17:10:30.855854Z"
    },
    "papermill": {
     "duration": 0.017589,
     "end_time": "2023-04-24T17:10:30.859325",
     "exception": false,
     "start_time": "2023-04-24T17:10:30.841736",
     "status": "completed"
    },
    "tags": []
   },
   "outputs": [],
   "source": [
    "with open('data/category2label.pkl', 'wb') as pf:\n",
    "    pickle.dump(category2label, pf)"
   ]
  },
  {
   "cell_type": "code",
   "execution_count": 10,
   "id": "28ab4542",
   "metadata": {
    "execution": {
     "iopub.execute_input": "2023-04-24T17:10:30.876930Z",
     "iopub.status.busy": "2023-04-24T17:10:30.876658Z",
     "iopub.status.idle": "2023-04-24T17:10:30.924135Z",
     "shell.execute_reply": "2023-04-24T17:10:30.923115Z"
    },
    "papermill": {
     "duration": 0.058693,
     "end_time": "2023-04-24T17:10:30.926267",
     "exception": false,
     "start_time": "2023-04-24T17:10:30.867574",
     "status": "completed"
    },
    "tags": []
   },
   "outputs": [
    {
     "name": "stdout",
     "output_type": "stream",
     "text": [
      "(4072, 100, 100, 3) (4072, 3)\n"
     ]
    }
   ],
   "source": [
    "X = np.load('/kaggle/working/data/X.npy')\n",
    "Y = np.load('/kaggle/working/data/Y.npy')\n",
    "\n",
    "print(X.shape, Y.shape)"
   ]
  },
  {
   "cell_type": "code",
   "execution_count": 11,
   "id": "bb4cd593",
   "metadata": {
    "execution": {
     "iopub.execute_input": "2023-04-24T17:10:30.945017Z",
     "iopub.status.busy": "2023-04-24T17:10:30.944711Z",
     "iopub.status.idle": "2023-04-24T17:10:31.772800Z",
     "shell.execute_reply": "2023-04-24T17:10:31.771774Z"
    },
    "papermill": {
     "duration": 0.840051,
     "end_time": "2023-04-24T17:10:31.775256",
     "exception": false,
     "start_time": "2023-04-24T17:10:30.935205",
     "status": "completed"
    },
    "tags": []
   },
   "outputs": [],
   "source": [
    "from sklearn.model_selection import train_test_split"
   ]
  },
  {
   "cell_type": "code",
   "execution_count": 12,
   "id": "da6f015f",
   "metadata": {
    "execution": {
     "iopub.execute_input": "2023-04-24T17:10:31.793859Z",
     "iopub.status.busy": "2023-04-24T17:10:31.793523Z",
     "iopub.status.idle": "2023-04-24T17:10:32.386811Z",
     "shell.execute_reply": "2023-04-24T17:10:32.385706Z"
    },
    "papermill": {
     "duration": 0.605289,
     "end_time": "2023-04-24T17:10:32.389319",
     "exception": false,
     "start_time": "2023-04-24T17:10:31.784030",
     "status": "completed"
    },
    "tags": []
   },
   "outputs": [],
   "source": [
    "X = X / 255.\n",
    "\n",
    "X_train, X_test, Y_train, Y_test = train_test_split(X, Y, test_size=0.3,random_state=101)"
   ]
  },
  {
   "cell_type": "code",
   "execution_count": 13,
   "id": "14ba48ac",
   "metadata": {
    "execution": {
     "iopub.execute_input": "2023-04-24T17:10:32.408284Z",
     "iopub.status.busy": "2023-04-24T17:10:32.407384Z",
     "iopub.status.idle": "2023-04-24T17:10:32.416187Z",
     "shell.execute_reply": "2023-04-24T17:10:32.415273Z"
    },
    "papermill": {
     "duration": 0.020267,
     "end_time": "2023-04-24T17:10:32.418322",
     "exception": false,
     "start_time": "2023-04-24T17:10:32.398055",
     "status": "completed"
    },
    "tags": []
   },
   "outputs": [
    {
     "data": {
      "text/plain": [
       "((2850, 100, 100, 3), (1222, 100, 100, 3))"
      ]
     },
     "execution_count": 13,
     "metadata": {},
     "output_type": "execute_result"
    }
   ],
   "source": [
    "X_train.shape, X_test.shape"
   ]
  },
  {
   "cell_type": "markdown",
   "id": "421ae312",
   "metadata": {
    "papermill": {
     "duration": 0.008184,
     "end_time": "2023-04-24T17:10:32.434904",
     "exception": false,
     "start_time": "2023-04-24T17:10:32.426720",
     "status": "completed"
    },
    "tags": []
   },
   "source": [
    "# Model Building"
   ]
  },
  {
   "cell_type": "code",
   "execution_count": 14,
   "id": "1e61a437",
   "metadata": {
    "execution": {
     "iopub.execute_input": "2023-04-24T17:10:32.452999Z",
     "iopub.status.busy": "2023-04-24T17:10:32.452444Z",
     "iopub.status.idle": "2023-04-24T17:10:32.458661Z",
     "shell.execute_reply": "2023-04-24T17:10:32.457727Z"
    },
    "papermill": {
     "duration": 0.017835,
     "end_time": "2023-04-24T17:10:32.461080",
     "exception": false,
     "start_time": "2023-04-24T17:10:32.443245",
     "status": "completed"
    },
    "tags": []
   },
   "outputs": [],
   "source": [
    "import tensorflow as tf\n",
    "from tensorflow.keras.applications.inception_v3 import InceptionV3\n",
    "from sklearn.model_selection import train_test_split\n",
    "from sklearn.metrics import confusion_matrix"
   ]
  },
  {
   "cell_type": "code",
   "execution_count": 15,
   "id": "34b94e43",
   "metadata": {
    "execution": {
     "iopub.execute_input": "2023-04-24T17:10:32.479562Z",
     "iopub.status.busy": "2023-04-24T17:10:32.479263Z",
     "iopub.status.idle": "2023-04-24T17:10:37.937031Z",
     "shell.execute_reply": "2023-04-24T17:10:37.935969Z"
    },
    "papermill": {
     "duration": 5.470074,
     "end_time": "2023-04-24T17:10:37.939811",
     "exception": false,
     "start_time": "2023-04-24T17:10:32.469737",
     "status": "completed"
    },
    "tags": []
   },
   "outputs": [
    {
     "name": "stdout",
     "output_type": "stream",
     "text": [
      "Downloading data from https://storage.googleapis.com/tensorflow/keras-applications/inception_v3/inception_v3_weights_tf_dim_ordering_tf_kernels_notop.h5\n",
      "87910968/87910968 [==============================] - 0s 0us/step\n"
     ]
    }
   ],
   "source": [
    "base_model = InceptionV3(include_top=False, weights='imagenet', input_shape=(100, 100, 3))"
   ]
  },
  {
   "cell_type": "code",
   "execution_count": 16,
   "id": "bb13f239",
   "metadata": {
    "execution": {
     "iopub.execute_input": "2023-04-24T17:10:37.959568Z",
     "iopub.status.busy": "2023-04-24T17:10:37.959206Z",
     "iopub.status.idle": "2023-04-24T17:10:37.963484Z",
     "shell.execute_reply": "2023-04-24T17:10:37.962363Z"
    },
    "papermill": {
     "duration": 0.016851,
     "end_time": "2023-04-24T17:10:37.966013",
     "exception": false,
     "start_time": "2023-04-24T17:10:37.949162",
     "status": "completed"
    },
    "tags": []
   },
   "outputs": [],
   "source": [
    "# base_model.summary()"
   ]
  },
  {
   "cell_type": "code",
   "execution_count": 17,
   "id": "396dc47a",
   "metadata": {
    "execution": {
     "iopub.execute_input": "2023-04-24T17:10:37.985195Z",
     "iopub.status.busy": "2023-04-24T17:10:37.984917Z",
     "iopub.status.idle": "2023-04-24T17:10:37.999276Z",
     "shell.execute_reply": "2023-04-24T17:10:37.998332Z"
    },
    "papermill": {
     "duration": 0.026402,
     "end_time": "2023-04-24T17:10:38.001364",
     "exception": false,
     "start_time": "2023-04-24T17:10:37.974962",
     "status": "completed"
    },
    "tags": []
   },
   "outputs": [],
   "source": [
    "for laye in base_model.layers:\n",
    "    laye.trainable = False\n",
    "    \n",
    "# geting the last layer\n",
    "last_layer = base_model.get_layer('mixed7')\n",
    "last = last_layer.output"
   ]
  },
  {
   "cell_type": "code",
   "execution_count": 18,
   "id": "6f9f7e4d",
   "metadata": {
    "execution": {
     "iopub.execute_input": "2023-04-24T17:10:38.020249Z",
     "iopub.status.busy": "2023-04-24T17:10:38.019981Z",
     "iopub.status.idle": "2023-04-24T17:10:38.025650Z",
     "shell.execute_reply": "2023-04-24T17:10:38.024676Z"
    },
    "papermill": {
     "duration": 0.017553,
     "end_time": "2023-04-24T17:10:38.027678",
     "exception": false,
     "start_time": "2023-04-24T17:10:38.010125",
     "status": "completed"
    },
    "tags": []
   },
   "outputs": [
    {
     "data": {
      "text/plain": [
       "'mixed7'"
      ]
     },
     "execution_count": 18,
     "metadata": {},
     "output_type": "execute_result"
    }
   ],
   "source": [
    "last_layer.name"
   ]
  },
  {
   "cell_type": "code",
   "execution_count": 19,
   "id": "81e302ac",
   "metadata": {
    "execution": {
     "iopub.execute_input": "2023-04-24T17:10:38.047275Z",
     "iopub.status.busy": "2023-04-24T17:10:38.046391Z",
     "iopub.status.idle": "2023-04-24T17:10:38.052308Z",
     "shell.execute_reply": "2023-04-24T17:10:38.051428Z"
    },
    "papermill": {
     "duration": 0.017682,
     "end_time": "2023-04-24T17:10:38.054326",
     "exception": false,
     "start_time": "2023-04-24T17:10:38.036644",
     "status": "completed"
    },
    "tags": []
   },
   "outputs": [],
   "source": [
    "from tensorflow.keras.layers import Flatten, Dense, Dropout, BatchNormalization\n",
    "from tensorflow.keras.models import Model"
   ]
  },
  {
   "cell_type": "code",
   "execution_count": 20,
   "id": "ddec9021",
   "metadata": {
    "execution": {
     "iopub.execute_input": "2023-04-24T17:10:38.073431Z",
     "iopub.status.busy": "2023-04-24T17:10:38.073173Z",
     "iopub.status.idle": "2023-04-24T17:10:38.764225Z",
     "shell.execute_reply": "2023-04-24T17:10:38.754795Z"
    },
    "papermill": {
     "duration": 0.926975,
     "end_time": "2023-04-24T17:10:38.990310",
     "exception": false,
     "start_time": "2023-04-24T17:10:38.063335",
     "status": "completed"
    },
    "tags": []
   },
   "outputs": [
    {
     "name": "stdout",
     "output_type": "stream",
     "text": [
      "Model: \"model\"\n",
      "__________________________________________________________________________________________________\n",
      " Layer (type)                   Output Shape         Param #     Connected to                     \n",
      "==================================================================================================\n",
      " input_1 (InputLayer)           [(None, 100, 100, 3  0           []                               \n",
      "                                )]                                                                \n",
      "                                                                                                  \n",
      " conv2d (Conv2D)                (None, 49, 49, 32)   864         ['input_1[0][0]']                \n",
      "                                                                                                  \n",
      " batch_normalization (BatchNorm  (None, 49, 49, 32)  96          ['conv2d[0][0]']                 \n",
      " alization)                                                                                       \n",
      "                                                                                                  \n",
      " activation (Activation)        (None, 49, 49, 32)   0           ['batch_normalization[0][0]']    \n",
      "                                                                                                  \n",
      " conv2d_1 (Conv2D)              (None, 47, 47, 32)   9216        ['activation[0][0]']             \n",
      "                                                                                                  \n",
      " batch_normalization_1 (BatchNo  (None, 47, 47, 32)  96          ['conv2d_1[0][0]']               \n",
      " rmalization)                                                                                     \n",
      "                                                                                                  \n",
      " activation_1 (Activation)      (None, 47, 47, 32)   0           ['batch_normalization_1[0][0]']  \n",
      "                                                                                                  \n",
      " conv2d_2 (Conv2D)              (None, 47, 47, 64)   18432       ['activation_1[0][0]']           \n",
      "                                                                                                  \n",
      " batch_normalization_2 (BatchNo  (None, 47, 47, 64)  192         ['conv2d_2[0][0]']               \n",
      " rmalization)                                                                                     \n",
      "                                                                                                  \n",
      " activation_2 (Activation)      (None, 47, 47, 64)   0           ['batch_normalization_2[0][0]']  \n",
      "                                                                                                  \n",
      " max_pooling2d (MaxPooling2D)   (None, 23, 23, 64)   0           ['activation_2[0][0]']           \n",
      "                                                                                                  \n",
      " conv2d_3 (Conv2D)              (None, 23, 23, 80)   5120        ['max_pooling2d[0][0]']          \n",
      "                                                                                                  \n",
      " batch_normalization_3 (BatchNo  (None, 23, 23, 80)  240         ['conv2d_3[0][0]']               \n",
      " rmalization)                                                                                     \n",
      "                                                                                                  \n",
      " activation_3 (Activation)      (None, 23, 23, 80)   0           ['batch_normalization_3[0][0]']  \n",
      "                                                                                                  \n",
      " conv2d_4 (Conv2D)              (None, 21, 21, 192)  138240      ['activation_3[0][0]']           \n",
      "                                                                                                  \n",
      " batch_normalization_4 (BatchNo  (None, 21, 21, 192)  576        ['conv2d_4[0][0]']               \n",
      " rmalization)                                                                                     \n",
      "                                                                                                  \n",
      " activation_4 (Activation)      (None, 21, 21, 192)  0           ['batch_normalization_4[0][0]']  \n",
      "                                                                                                  \n",
      " max_pooling2d_1 (MaxPooling2D)  (None, 10, 10, 192)  0          ['activation_4[0][0]']           \n",
      "                                                                                                  \n",
      " conv2d_8 (Conv2D)              (None, 10, 10, 64)   12288       ['max_pooling2d_1[0][0]']        \n",
      "                                                                                                  \n",
      " batch_normalization_8 (BatchNo  (None, 10, 10, 64)  192         ['conv2d_8[0][0]']               \n",
      " rmalization)                                                                                     \n",
      "                                                                                                  \n",
      " activation_8 (Activation)      (None, 10, 10, 64)   0           ['batch_normalization_8[0][0]']  \n",
      "                                                                                                  \n",
      " conv2d_6 (Conv2D)              (None, 10, 10, 48)   9216        ['max_pooling2d_1[0][0]']        \n",
      "                                                                                                  \n",
      " conv2d_9 (Conv2D)              (None, 10, 10, 96)   55296       ['activation_8[0][0]']           \n",
      "                                                                                                  \n",
      " batch_normalization_6 (BatchNo  (None, 10, 10, 48)  144         ['conv2d_6[0][0]']               \n",
      " rmalization)                                                                                     \n",
      "                                                                                                  \n",
      " batch_normalization_9 (BatchNo  (None, 10, 10, 96)  288         ['conv2d_9[0][0]']               \n",
      " rmalization)                                                                                     \n",
      "                                                                                                  \n",
      " activation_6 (Activation)      (None, 10, 10, 48)   0           ['batch_normalization_6[0][0]']  \n",
      "                                                                                                  \n",
      " activation_9 (Activation)      (None, 10, 10, 96)   0           ['batch_normalization_9[0][0]']  \n",
      "                                                                                                  \n",
      " average_pooling2d (AveragePool  (None, 10, 10, 192)  0          ['max_pooling2d_1[0][0]']        \n",
      " ing2D)                                                                                           \n",
      "                                                                                                  \n",
      " conv2d_5 (Conv2D)              (None, 10, 10, 64)   12288       ['max_pooling2d_1[0][0]']        \n",
      "                                                                                                  \n",
      " conv2d_7 (Conv2D)              (None, 10, 10, 64)   76800       ['activation_6[0][0]']           \n",
      "                                                                                                  \n",
      " conv2d_10 (Conv2D)             (None, 10, 10, 96)   82944       ['activation_9[0][0]']           \n",
      "                                                                                                  \n",
      " conv2d_11 (Conv2D)             (None, 10, 10, 32)   6144        ['average_pooling2d[0][0]']      \n",
      "                                                                                                  \n",
      " batch_normalization_5 (BatchNo  (None, 10, 10, 64)  192         ['conv2d_5[0][0]']               \n",
      " rmalization)                                                                                     \n",
      "                                                                                                  \n",
      " batch_normalization_7 (BatchNo  (None, 10, 10, 64)  192         ['conv2d_7[0][0]']               \n",
      " rmalization)                                                                                     \n",
      "                                                                                                  \n",
      " batch_normalization_10 (BatchN  (None, 10, 10, 96)  288         ['conv2d_10[0][0]']              \n",
      " ormalization)                                                                                    \n",
      "                                                                                                  \n",
      " batch_normalization_11 (BatchN  (None, 10, 10, 32)  96          ['conv2d_11[0][0]']              \n",
      " ormalization)                                                                                    \n",
      "                                                                                                  \n",
      " activation_5 (Activation)      (None, 10, 10, 64)   0           ['batch_normalization_5[0][0]']  \n",
      "                                                                                                  \n",
      " activation_7 (Activation)      (None, 10, 10, 64)   0           ['batch_normalization_7[0][0]']  \n",
      "                                                                                                  \n",
      " activation_10 (Activation)     (None, 10, 10, 96)   0           ['batch_normalization_10[0][0]'] \n",
      "                                                                                                  \n",
      " activation_11 (Activation)     (None, 10, 10, 32)   0           ['batch_normalization_11[0][0]'] \n",
      "                                                                                                  \n",
      " mixed0 (Concatenate)           (None, 10, 10, 256)  0           ['activation_5[0][0]',           \n",
      "                                                                  'activation_7[0][0]',           \n",
      "                                                                  'activation_10[0][0]',          \n",
      "                                                                  'activation_11[0][0]']          \n",
      "                                                                                                  \n",
      " conv2d_15 (Conv2D)             (None, 10, 10, 64)   16384       ['mixed0[0][0]']                 \n",
      "                                                                                                  \n",
      " batch_normalization_15 (BatchN  (None, 10, 10, 64)  192         ['conv2d_15[0][0]']              \n",
      " ormalization)                                                                                    \n",
      "                                                                                                  \n",
      " activation_15 (Activation)     (None, 10, 10, 64)   0           ['batch_normalization_15[0][0]'] \n",
      "                                                                                                  \n",
      " conv2d_13 (Conv2D)             (None, 10, 10, 48)   12288       ['mixed0[0][0]']                 \n",
      "                                                                                                  \n",
      " conv2d_16 (Conv2D)             (None, 10, 10, 96)   55296       ['activation_15[0][0]']          \n",
      "                                                                                                  \n",
      " batch_normalization_13 (BatchN  (None, 10, 10, 48)  144         ['conv2d_13[0][0]']              \n",
      " ormalization)                                                                                    \n",
      "                                                                                                  \n",
      " batch_normalization_16 (BatchN  (None, 10, 10, 96)  288         ['conv2d_16[0][0]']              \n",
      " ormalization)                                                                                    \n",
      "                                                                                                  \n",
      " activation_13 (Activation)     (None, 10, 10, 48)   0           ['batch_normalization_13[0][0]'] \n",
      "                                                                                                  \n",
      " activation_16 (Activation)     (None, 10, 10, 96)   0           ['batch_normalization_16[0][0]'] \n",
      "                                                                                                  \n",
      " average_pooling2d_1 (AveragePo  (None, 10, 10, 256)  0          ['mixed0[0][0]']                 \n",
      " oling2D)                                                                                         \n",
      "                                                                                                  \n",
      " conv2d_12 (Conv2D)             (None, 10, 10, 64)   16384       ['mixed0[0][0]']                 \n",
      "                                                                                                  \n",
      " conv2d_14 (Conv2D)             (None, 10, 10, 64)   76800       ['activation_13[0][0]']          \n",
      "                                                                                                  \n",
      " conv2d_17 (Conv2D)             (None, 10, 10, 96)   82944       ['activation_16[0][0]']          \n",
      "                                                                                                  \n",
      " conv2d_18 (Conv2D)             (None, 10, 10, 64)   16384       ['average_pooling2d_1[0][0]']    \n",
      "                                                                                                  \n",
      " batch_normalization_12 (BatchN  (None, 10, 10, 64)  192         ['conv2d_12[0][0]']              \n",
      " ormalization)                                                                                    \n",
      "                                                                                                  \n",
      " batch_normalization_14 (BatchN  (None, 10, 10, 64)  192         ['conv2d_14[0][0]']              \n",
      " ormalization)                                                                                    \n",
      "                                                                                                  \n",
      " batch_normalization_17 (BatchN  (None, 10, 10, 96)  288         ['conv2d_17[0][0]']              \n",
      " ormalization)                                                                                    \n",
      "                                                                                                  \n",
      " batch_normalization_18 (BatchN  (None, 10, 10, 64)  192         ['conv2d_18[0][0]']              \n",
      " ormalization)                                                                                    \n",
      "                                                                                                  \n",
      " activation_12 (Activation)     (None, 10, 10, 64)   0           ['batch_normalization_12[0][0]'] \n",
      "                                                                                                  \n",
      " activation_14 (Activation)     (None, 10, 10, 64)   0           ['batch_normalization_14[0][0]'] \n",
      "                                                                                                  \n",
      " activation_17 (Activation)     (None, 10, 10, 96)   0           ['batch_normalization_17[0][0]'] \n",
      "                                                                                                  \n",
      " activation_18 (Activation)     (None, 10, 10, 64)   0           ['batch_normalization_18[0][0]'] \n",
      "                                                                                                  \n",
      " mixed1 (Concatenate)           (None, 10, 10, 288)  0           ['activation_12[0][0]',          \n",
      "                                                                  'activation_14[0][0]',          \n",
      "                                                                  'activation_17[0][0]',          \n",
      "                                                                  'activation_18[0][0]']          \n",
      "                                                                                                  \n",
      " conv2d_22 (Conv2D)             (None, 10, 10, 64)   18432       ['mixed1[0][0]']                 \n",
      "                                                                                                  \n",
      " batch_normalization_22 (BatchN  (None, 10, 10, 64)  192         ['conv2d_22[0][0]']              \n",
      " ormalization)                                                                                    \n",
      "                                                                                                  \n",
      " activation_22 (Activation)     (None, 10, 10, 64)   0           ['batch_normalization_22[0][0]'] \n",
      "                                                                                                  \n",
      " conv2d_20 (Conv2D)             (None, 10, 10, 48)   13824       ['mixed1[0][0]']                 \n",
      "                                                                                                  \n",
      " conv2d_23 (Conv2D)             (None, 10, 10, 96)   55296       ['activation_22[0][0]']          \n",
      "                                                                                                  \n",
      " batch_normalization_20 (BatchN  (None, 10, 10, 48)  144         ['conv2d_20[0][0]']              \n",
      " ormalization)                                                                                    \n",
      "                                                                                                  \n",
      " batch_normalization_23 (BatchN  (None, 10, 10, 96)  288         ['conv2d_23[0][0]']              \n",
      " ormalization)                                                                                    \n",
      "                                                                                                  \n",
      " activation_20 (Activation)     (None, 10, 10, 48)   0           ['batch_normalization_20[0][0]'] \n",
      "                                                                                                  \n",
      " activation_23 (Activation)     (None, 10, 10, 96)   0           ['batch_normalization_23[0][0]'] \n",
      "                                                                                                  \n",
      " average_pooling2d_2 (AveragePo  (None, 10, 10, 288)  0          ['mixed1[0][0]']                 \n",
      " oling2D)                                                                                         \n",
      "                                                                                                  \n",
      " conv2d_19 (Conv2D)             (None, 10, 10, 64)   18432       ['mixed1[0][0]']                 \n",
      "                                                                                                  \n",
      " conv2d_21 (Conv2D)             (None, 10, 10, 64)   76800       ['activation_20[0][0]']          \n",
      "                                                                                                  \n",
      " conv2d_24 (Conv2D)             (None, 10, 10, 96)   82944       ['activation_23[0][0]']          \n",
      "                                                                                                  \n",
      " conv2d_25 (Conv2D)             (None, 10, 10, 64)   18432       ['average_pooling2d_2[0][0]']    \n",
      "                                                                                                  \n",
      " batch_normalization_19 (BatchN  (None, 10, 10, 64)  192         ['conv2d_19[0][0]']              \n",
      " ormalization)                                                                                    \n",
      "                                                                                                  \n",
      " batch_normalization_21 (BatchN  (None, 10, 10, 64)  192         ['conv2d_21[0][0]']              \n",
      " ormalization)                                                                                    \n",
      "                                                                                                  \n",
      " batch_normalization_24 (BatchN  (None, 10, 10, 96)  288         ['conv2d_24[0][0]']              \n",
      " ormalization)                                                                                    \n",
      "                                                                                                  \n",
      " batch_normalization_25 (BatchN  (None, 10, 10, 64)  192         ['conv2d_25[0][0]']              \n",
      " ormalization)                                                                                    \n",
      "                                                                                                  \n",
      " activation_19 (Activation)     (None, 10, 10, 64)   0           ['batch_normalization_19[0][0]'] \n",
      "                                                                                                  \n",
      " activation_21 (Activation)     (None, 10, 10, 64)   0           ['batch_normalization_21[0][0]'] \n",
      "                                                                                                  \n",
      " activation_24 (Activation)     (None, 10, 10, 96)   0           ['batch_normalization_24[0][0]'] \n",
      "                                                                                                  \n",
      " activation_25 (Activation)     (None, 10, 10, 64)   0           ['batch_normalization_25[0][0]'] \n",
      "                                                                                                  \n",
      " mixed2 (Concatenate)           (None, 10, 10, 288)  0           ['activation_19[0][0]',          \n",
      "                                                                  'activation_21[0][0]',          \n",
      "                                                                  'activation_24[0][0]',          \n",
      "                                                                  'activation_25[0][0]']          \n",
      "                                                                                                  \n",
      " conv2d_27 (Conv2D)             (None, 10, 10, 64)   18432       ['mixed2[0][0]']                 \n",
      "                                                                                                  \n",
      " batch_normalization_27 (BatchN  (None, 10, 10, 64)  192         ['conv2d_27[0][0]']              \n",
      " ormalization)                                                                                    \n",
      "                                                                                                  \n",
      " activation_27 (Activation)     (None, 10, 10, 64)   0           ['batch_normalization_27[0][0]'] \n",
      "                                                                                                  \n",
      " conv2d_28 (Conv2D)             (None, 10, 10, 96)   55296       ['activation_27[0][0]']          \n",
      "                                                                                                  \n",
      " batch_normalization_28 (BatchN  (None, 10, 10, 96)  288         ['conv2d_28[0][0]']              \n",
      " ormalization)                                                                                    \n",
      "                                                                                                  \n",
      " activation_28 (Activation)     (None, 10, 10, 96)   0           ['batch_normalization_28[0][0]'] \n",
      "                                                                                                  \n",
      " conv2d_26 (Conv2D)             (None, 4, 4, 384)    995328      ['mixed2[0][0]']                 \n",
      "                                                                                                  \n",
      " conv2d_29 (Conv2D)             (None, 4, 4, 96)     82944       ['activation_28[0][0]']          \n",
      "                                                                                                  \n",
      " batch_normalization_26 (BatchN  (None, 4, 4, 384)   1152        ['conv2d_26[0][0]']              \n",
      " ormalization)                                                                                    \n",
      "                                                                                                  \n",
      " batch_normalization_29 (BatchN  (None, 4, 4, 96)    288         ['conv2d_29[0][0]']              \n",
      " ormalization)                                                                                    \n",
      "                                                                                                  \n",
      " activation_26 (Activation)     (None, 4, 4, 384)    0           ['batch_normalization_26[0][0]'] \n",
      "                                                                                                  \n",
      " activation_29 (Activation)     (None, 4, 4, 96)     0           ['batch_normalization_29[0][0]'] \n",
      "                                                                                                  \n",
      " max_pooling2d_2 (MaxPooling2D)  (None, 4, 4, 288)   0           ['mixed2[0][0]']                 \n",
      "                                                                                                  \n",
      " mixed3 (Concatenate)           (None, 4, 4, 768)    0           ['activation_26[0][0]',          \n",
      "                                                                  'activation_29[0][0]',          \n",
      "                                                                  'max_pooling2d_2[0][0]']        \n",
      "                                                                                                  \n",
      " conv2d_34 (Conv2D)             (None, 4, 4, 128)    98304       ['mixed3[0][0]']                 \n",
      "                                                                                                  \n",
      " batch_normalization_34 (BatchN  (None, 4, 4, 128)   384         ['conv2d_34[0][0]']              \n",
      " ormalization)                                                                                    \n",
      "                                                                                                  \n",
      " activation_34 (Activation)     (None, 4, 4, 128)    0           ['batch_normalization_34[0][0]'] \n",
      "                                                                                                  \n",
      " conv2d_35 (Conv2D)             (None, 4, 4, 128)    114688      ['activation_34[0][0]']          \n",
      "                                                                                                  \n",
      " batch_normalization_35 (BatchN  (None, 4, 4, 128)   384         ['conv2d_35[0][0]']              \n",
      " ormalization)                                                                                    \n",
      "                                                                                                  \n",
      " activation_35 (Activation)     (None, 4, 4, 128)    0           ['batch_normalization_35[0][0]'] \n",
      "                                                                                                  \n",
      " conv2d_31 (Conv2D)             (None, 4, 4, 128)    98304       ['mixed3[0][0]']                 \n",
      "                                                                                                  \n",
      " conv2d_36 (Conv2D)             (None, 4, 4, 128)    114688      ['activation_35[0][0]']          \n",
      "                                                                                                  \n",
      " batch_normalization_31 (BatchN  (None, 4, 4, 128)   384         ['conv2d_31[0][0]']              \n",
      " ormalization)                                                                                    \n",
      "                                                                                                  \n",
      " batch_normalization_36 (BatchN  (None, 4, 4, 128)   384         ['conv2d_36[0][0]']              \n",
      " ormalization)                                                                                    \n",
      "                                                                                                  \n",
      " activation_31 (Activation)     (None, 4, 4, 128)    0           ['batch_normalization_31[0][0]'] \n",
      "                                                                                                  \n",
      " activation_36 (Activation)     (None, 4, 4, 128)    0           ['batch_normalization_36[0][0]'] \n",
      "                                                                                                  \n",
      " conv2d_32 (Conv2D)             (None, 4, 4, 128)    114688      ['activation_31[0][0]']          \n",
      "                                                                                                  \n",
      " conv2d_37 (Conv2D)             (None, 4, 4, 128)    114688      ['activation_36[0][0]']          \n",
      "                                                                                                  \n",
      " batch_normalization_32 (BatchN  (None, 4, 4, 128)   384         ['conv2d_32[0][0]']              \n",
      " ormalization)                                                                                    \n",
      "                                                                                                  \n",
      " batch_normalization_37 (BatchN  (None, 4, 4, 128)   384         ['conv2d_37[0][0]']              \n",
      " ormalization)                                                                                    \n",
      "                                                                                                  \n",
      " activation_32 (Activation)     (None, 4, 4, 128)    0           ['batch_normalization_32[0][0]'] \n",
      "                                                                                                  \n",
      " activation_37 (Activation)     (None, 4, 4, 128)    0           ['batch_normalization_37[0][0]'] \n",
      "                                                                                                  \n",
      " average_pooling2d_3 (AveragePo  (None, 4, 4, 768)   0           ['mixed3[0][0]']                 \n",
      " oling2D)                                                                                         \n",
      "                                                                                                  \n",
      " conv2d_30 (Conv2D)             (None, 4, 4, 192)    147456      ['mixed3[0][0]']                 \n",
      "                                                                                                  \n",
      " conv2d_33 (Conv2D)             (None, 4, 4, 192)    172032      ['activation_32[0][0]']          \n",
      "                                                                                                  \n",
      " conv2d_38 (Conv2D)             (None, 4, 4, 192)    172032      ['activation_37[0][0]']          \n",
      "                                                                                                  \n",
      " conv2d_39 (Conv2D)             (None, 4, 4, 192)    147456      ['average_pooling2d_3[0][0]']    \n",
      "                                                                                                  \n",
      " batch_normalization_30 (BatchN  (None, 4, 4, 192)   576         ['conv2d_30[0][0]']              \n",
      " ormalization)                                                                                    \n",
      "                                                                                                  \n",
      " batch_normalization_33 (BatchN  (None, 4, 4, 192)   576         ['conv2d_33[0][0]']              \n",
      " ormalization)                                                                                    \n",
      "                                                                                                  \n",
      " batch_normalization_38 (BatchN  (None, 4, 4, 192)   576         ['conv2d_38[0][0]']              \n",
      " ormalization)                                                                                    \n",
      "                                                                                                  \n",
      " batch_normalization_39 (BatchN  (None, 4, 4, 192)   576         ['conv2d_39[0][0]']              \n",
      " ormalization)                                                                                    \n",
      "                                                                                                  \n",
      " activation_30 (Activation)     (None, 4, 4, 192)    0           ['batch_normalization_30[0][0]'] \n",
      "                                                                                                  \n",
      " activation_33 (Activation)     (None, 4, 4, 192)    0           ['batch_normalization_33[0][0]'] \n",
      "                                                                                                  \n",
      " activation_38 (Activation)     (None, 4, 4, 192)    0           ['batch_normalization_38[0][0]'] \n",
      "                                                                                                  \n",
      " activation_39 (Activation)     (None, 4, 4, 192)    0           ['batch_normalization_39[0][0]'] \n",
      "                                                                                                  \n",
      " mixed4 (Concatenate)           (None, 4, 4, 768)    0           ['activation_30[0][0]',          \n",
      "                                                                  'activation_33[0][0]',          \n",
      "                                                                  'activation_38[0][0]',          \n",
      "                                                                  'activation_39[0][0]']          \n",
      "                                                                                                  \n",
      " conv2d_44 (Conv2D)             (None, 4, 4, 160)    122880      ['mixed4[0][0]']                 \n",
      "                                                                                                  \n",
      " batch_normalization_44 (BatchN  (None, 4, 4, 160)   480         ['conv2d_44[0][0]']              \n",
      " ormalization)                                                                                    \n",
      "                                                                                                  \n",
      " activation_44 (Activation)     (None, 4, 4, 160)    0           ['batch_normalization_44[0][0]'] \n",
      "                                                                                                  \n",
      " conv2d_45 (Conv2D)             (None, 4, 4, 160)    179200      ['activation_44[0][0]']          \n",
      "                                                                                                  \n",
      " batch_normalization_45 (BatchN  (None, 4, 4, 160)   480         ['conv2d_45[0][0]']              \n",
      " ormalization)                                                                                    \n",
      "                                                                                                  \n",
      " activation_45 (Activation)     (None, 4, 4, 160)    0           ['batch_normalization_45[0][0]'] \n",
      "                                                                                                  \n",
      " conv2d_41 (Conv2D)             (None, 4, 4, 160)    122880      ['mixed4[0][0]']                 \n",
      "                                                                                                  \n",
      " conv2d_46 (Conv2D)             (None, 4, 4, 160)    179200      ['activation_45[0][0]']          \n",
      "                                                                                                  \n",
      " batch_normalization_41 (BatchN  (None, 4, 4, 160)   480         ['conv2d_41[0][0]']              \n",
      " ormalization)                                                                                    \n",
      "                                                                                                  \n",
      " batch_normalization_46 (BatchN  (None, 4, 4, 160)   480         ['conv2d_46[0][0]']              \n",
      " ormalization)                                                                                    \n",
      "                                                                                                  \n",
      " activation_41 (Activation)     (None, 4, 4, 160)    0           ['batch_normalization_41[0][0]'] \n",
      "                                                                                                  \n",
      " activation_46 (Activation)     (None, 4, 4, 160)    0           ['batch_normalization_46[0][0]'] \n",
      "                                                                                                  \n",
      " conv2d_42 (Conv2D)             (None, 4, 4, 160)    179200      ['activation_41[0][0]']          \n",
      "                                                                                                  \n",
      " conv2d_47 (Conv2D)             (None, 4, 4, 160)    179200      ['activation_46[0][0]']          \n",
      "                                                                                                  \n",
      " batch_normalization_42 (BatchN  (None, 4, 4, 160)   480         ['conv2d_42[0][0]']              \n",
      " ormalization)                                                                                    \n",
      "                                                                                                  \n",
      " batch_normalization_47 (BatchN  (None, 4, 4, 160)   480         ['conv2d_47[0][0]']              \n",
      " ormalization)                                                                                    \n",
      "                                                                                                  \n",
      " activation_42 (Activation)     (None, 4, 4, 160)    0           ['batch_normalization_42[0][0]'] \n",
      "                                                                                                  \n",
      " activation_47 (Activation)     (None, 4, 4, 160)    0           ['batch_normalization_47[0][0]'] \n",
      "                                                                                                  \n",
      " average_pooling2d_4 (AveragePo  (None, 4, 4, 768)   0           ['mixed4[0][0]']                 \n",
      " oling2D)                                                                                         \n",
      "                                                                                                  \n",
      " conv2d_40 (Conv2D)             (None, 4, 4, 192)    147456      ['mixed4[0][0]']                 \n",
      "                                                                                                  \n",
      " conv2d_43 (Conv2D)             (None, 4, 4, 192)    215040      ['activation_42[0][0]']          \n",
      "                                                                                                  \n",
      " conv2d_48 (Conv2D)             (None, 4, 4, 192)    215040      ['activation_47[0][0]']          \n",
      "                                                                                                  \n",
      " conv2d_49 (Conv2D)             (None, 4, 4, 192)    147456      ['average_pooling2d_4[0][0]']    \n",
      "                                                                                                  \n",
      " batch_normalization_40 (BatchN  (None, 4, 4, 192)   576         ['conv2d_40[0][0]']              \n",
      " ormalization)                                                                                    \n",
      "                                                                                                  \n",
      " batch_normalization_43 (BatchN  (None, 4, 4, 192)   576         ['conv2d_43[0][0]']              \n",
      " ormalization)                                                                                    \n",
      "                                                                                                  \n",
      " batch_normalization_48 (BatchN  (None, 4, 4, 192)   576         ['conv2d_48[0][0]']              \n",
      " ormalization)                                                                                    \n",
      "                                                                                                  \n",
      " batch_normalization_49 (BatchN  (None, 4, 4, 192)   576         ['conv2d_49[0][0]']              \n",
      " ormalization)                                                                                    \n",
      "                                                                                                  \n",
      " activation_40 (Activation)     (None, 4, 4, 192)    0           ['batch_normalization_40[0][0]'] \n",
      "                                                                                                  \n",
      " activation_43 (Activation)     (None, 4, 4, 192)    0           ['batch_normalization_43[0][0]'] \n",
      "                                                                                                  \n",
      " activation_48 (Activation)     (None, 4, 4, 192)    0           ['batch_normalization_48[0][0]'] \n",
      "                                                                                                  \n",
      " activation_49 (Activation)     (None, 4, 4, 192)    0           ['batch_normalization_49[0][0]'] \n",
      "                                                                                                  \n",
      " mixed5 (Concatenate)           (None, 4, 4, 768)    0           ['activation_40[0][0]',          \n",
      "                                                                  'activation_43[0][0]',          \n",
      "                                                                  'activation_48[0][0]',          \n",
      "                                                                  'activation_49[0][0]']          \n",
      "                                                                                                  \n",
      " conv2d_54 (Conv2D)             (None, 4, 4, 160)    122880      ['mixed5[0][0]']                 \n",
      "                                                                                                  \n",
      " batch_normalization_54 (BatchN  (None, 4, 4, 160)   480         ['conv2d_54[0][0]']              \n",
      " ormalization)                                                                                    \n",
      "                                                                                                  \n",
      " activation_54 (Activation)     (None, 4, 4, 160)    0           ['batch_normalization_54[0][0]'] \n",
      "                                                                                                  \n",
      " conv2d_55 (Conv2D)             (None, 4, 4, 160)    179200      ['activation_54[0][0]']          \n",
      "                                                                                                  \n",
      " batch_normalization_55 (BatchN  (None, 4, 4, 160)   480         ['conv2d_55[0][0]']              \n",
      " ormalization)                                                                                    \n",
      "                                                                                                  \n",
      " activation_55 (Activation)     (None, 4, 4, 160)    0           ['batch_normalization_55[0][0]'] \n",
      "                                                                                                  \n",
      " conv2d_51 (Conv2D)             (None, 4, 4, 160)    122880      ['mixed5[0][0]']                 \n",
      "                                                                                                  \n",
      " conv2d_56 (Conv2D)             (None, 4, 4, 160)    179200      ['activation_55[0][0]']          \n",
      "                                                                                                  \n",
      " batch_normalization_51 (BatchN  (None, 4, 4, 160)   480         ['conv2d_51[0][0]']              \n",
      " ormalization)                                                                                    \n",
      "                                                                                                  \n",
      " batch_normalization_56 (BatchN  (None, 4, 4, 160)   480         ['conv2d_56[0][0]']              \n",
      " ormalization)                                                                                    \n",
      "                                                                                                  \n",
      " activation_51 (Activation)     (None, 4, 4, 160)    0           ['batch_normalization_51[0][0]'] \n",
      "                                                                                                  \n",
      " activation_56 (Activation)     (None, 4, 4, 160)    0           ['batch_normalization_56[0][0]'] \n",
      "                                                                                                  \n",
      " conv2d_52 (Conv2D)             (None, 4, 4, 160)    179200      ['activation_51[0][0]']          \n",
      "                                                                                                  \n",
      " conv2d_57 (Conv2D)             (None, 4, 4, 160)    179200      ['activation_56[0][0]']          \n",
      "                                                                                                  \n",
      " batch_normalization_52 (BatchN  (None, 4, 4, 160)   480         ['conv2d_52[0][0]']              \n",
      " ormalization)                                                                                    \n",
      "                                                                                                  \n",
      " batch_normalization_57 (BatchN  (None, 4, 4, 160)   480         ['conv2d_57[0][0]']              \n",
      " ormalization)                                                                                    \n",
      "                                                                                                  \n",
      " activation_52 (Activation)     (None, 4, 4, 160)    0           ['batch_normalization_52[0][0]'] \n",
      "                                                                                                  \n",
      " activation_57 (Activation)     (None, 4, 4, 160)    0           ['batch_normalization_57[0][0]'] \n",
      "                                                                                                  \n",
      " average_pooling2d_5 (AveragePo  (None, 4, 4, 768)   0           ['mixed5[0][0]']                 \n",
      " oling2D)                                                                                         \n",
      "                                                                                                  \n",
      " conv2d_50 (Conv2D)             (None, 4, 4, 192)    147456      ['mixed5[0][0]']                 \n",
      "                                                                                                  \n",
      " conv2d_53 (Conv2D)             (None, 4, 4, 192)    215040      ['activation_52[0][0]']          \n",
      "                                                                                                  \n",
      " conv2d_58 (Conv2D)             (None, 4, 4, 192)    215040      ['activation_57[0][0]']          \n",
      "                                                                                                  \n",
      " conv2d_59 (Conv2D)             (None, 4, 4, 192)    147456      ['average_pooling2d_5[0][0]']    \n",
      "                                                                                                  \n",
      " batch_normalization_50 (BatchN  (None, 4, 4, 192)   576         ['conv2d_50[0][0]']              \n",
      " ormalization)                                                                                    \n",
      "                                                                                                  \n",
      " batch_normalization_53 (BatchN  (None, 4, 4, 192)   576         ['conv2d_53[0][0]']              \n",
      " ormalization)                                                                                    \n",
      "                                                                                                  \n",
      " batch_normalization_58 (BatchN  (None, 4, 4, 192)   576         ['conv2d_58[0][0]']              \n",
      " ormalization)                                                                                    \n",
      "                                                                                                  \n",
      " batch_normalization_59 (BatchN  (None, 4, 4, 192)   576         ['conv2d_59[0][0]']              \n",
      " ormalization)                                                                                    \n",
      "                                                                                                  \n",
      " activation_50 (Activation)     (None, 4, 4, 192)    0           ['batch_normalization_50[0][0]'] \n",
      "                                                                                                  \n",
      " activation_53 (Activation)     (None, 4, 4, 192)    0           ['batch_normalization_53[0][0]'] \n",
      "                                                                                                  \n",
      " activation_58 (Activation)     (None, 4, 4, 192)    0           ['batch_normalization_58[0][0]'] \n",
      "                                                                                                  \n",
      " activation_59 (Activation)     (None, 4, 4, 192)    0           ['batch_normalization_59[0][0]'] \n",
      "                                                                                                  \n",
      " mixed6 (Concatenate)           (None, 4, 4, 768)    0           ['activation_50[0][0]',          \n",
      "                                                                  'activation_53[0][0]',          \n",
      "                                                                  'activation_58[0][0]',          \n",
      "                                                                  'activation_59[0][0]']          \n",
      "                                                                                                  \n",
      " conv2d_64 (Conv2D)             (None, 4, 4, 192)    147456      ['mixed6[0][0]']                 \n",
      "                                                                                                  \n",
      " batch_normalization_64 (BatchN  (None, 4, 4, 192)   576         ['conv2d_64[0][0]']              \n",
      " ormalization)                                                                                    \n",
      "                                                                                                  \n",
      " activation_64 (Activation)     (None, 4, 4, 192)    0           ['batch_normalization_64[0][0]'] \n",
      "                                                                                                  \n",
      " conv2d_65 (Conv2D)             (None, 4, 4, 192)    258048      ['activation_64[0][0]']          \n",
      "                                                                                                  \n",
      " batch_normalization_65 (BatchN  (None, 4, 4, 192)   576         ['conv2d_65[0][0]']              \n",
      " ormalization)                                                                                    \n",
      "                                                                                                  \n",
      " activation_65 (Activation)     (None, 4, 4, 192)    0           ['batch_normalization_65[0][0]'] \n",
      "                                                                                                  \n",
      " conv2d_61 (Conv2D)             (None, 4, 4, 192)    147456      ['mixed6[0][0]']                 \n",
      "                                                                                                  \n",
      " conv2d_66 (Conv2D)             (None, 4, 4, 192)    258048      ['activation_65[0][0]']          \n",
      "                                                                                                  \n",
      " batch_normalization_61 (BatchN  (None, 4, 4, 192)   576         ['conv2d_61[0][0]']              \n",
      " ormalization)                                                                                    \n",
      "                                                                                                  \n",
      " batch_normalization_66 (BatchN  (None, 4, 4, 192)   576         ['conv2d_66[0][0]']              \n",
      " ormalization)                                                                                    \n",
      "                                                                                                  \n",
      " activation_61 (Activation)     (None, 4, 4, 192)    0           ['batch_normalization_61[0][0]'] \n",
      "                                                                                                  \n",
      " activation_66 (Activation)     (None, 4, 4, 192)    0           ['batch_normalization_66[0][0]'] \n",
      "                                                                                                  \n",
      " conv2d_62 (Conv2D)             (None, 4, 4, 192)    258048      ['activation_61[0][0]']          \n",
      "                                                                                                  \n",
      " conv2d_67 (Conv2D)             (None, 4, 4, 192)    258048      ['activation_66[0][0]']          \n",
      "                                                                                                  \n",
      " batch_normalization_62 (BatchN  (None, 4, 4, 192)   576         ['conv2d_62[0][0]']              \n",
      " ormalization)                                                                                    \n",
      "                                                                                                  \n",
      " batch_normalization_67 (BatchN  (None, 4, 4, 192)   576         ['conv2d_67[0][0]']              \n",
      " ormalization)                                                                                    \n",
      "                                                                                                  \n",
      " activation_62 (Activation)     (None, 4, 4, 192)    0           ['batch_normalization_62[0][0]'] \n",
      "                                                                                                  \n",
      " activation_67 (Activation)     (None, 4, 4, 192)    0           ['batch_normalization_67[0][0]'] \n",
      "                                                                                                  \n",
      " average_pooling2d_6 (AveragePo  (None, 4, 4, 768)   0           ['mixed6[0][0]']                 \n",
      " oling2D)                                                                                         \n",
      "                                                                                                  \n",
      " conv2d_60 (Conv2D)             (None, 4, 4, 192)    147456      ['mixed6[0][0]']                 \n",
      "                                                                                                  \n",
      " conv2d_63 (Conv2D)             (None, 4, 4, 192)    258048      ['activation_62[0][0]']          \n",
      "                                                                                                  \n",
      " conv2d_68 (Conv2D)             (None, 4, 4, 192)    258048      ['activation_67[0][0]']          \n",
      "                                                                                                  \n",
      " conv2d_69 (Conv2D)             (None, 4, 4, 192)    147456      ['average_pooling2d_6[0][0]']    \n",
      "                                                                                                  \n",
      " batch_normalization_60 (BatchN  (None, 4, 4, 192)   576         ['conv2d_60[0][0]']              \n",
      " ormalization)                                                                                    \n",
      "                                                                                                  \n",
      " batch_normalization_63 (BatchN  (None, 4, 4, 192)   576         ['conv2d_63[0][0]']              \n",
      " ormalization)                                                                                    \n",
      "                                                                                                  \n",
      " batch_normalization_68 (BatchN  (None, 4, 4, 192)   576         ['conv2d_68[0][0]']              \n",
      " ormalization)                                                                                    \n",
      "                                                                                                  \n",
      " batch_normalization_69 (BatchN  (None, 4, 4, 192)   576         ['conv2d_69[0][0]']              \n",
      " ormalization)                                                                                    \n",
      "                                                                                                  \n",
      " activation_60 (Activation)     (None, 4, 4, 192)    0           ['batch_normalization_60[0][0]'] \n",
      "                                                                                                  \n",
      " activation_63 (Activation)     (None, 4, 4, 192)    0           ['batch_normalization_63[0][0]'] \n",
      "                                                                                                  \n",
      " activation_68 (Activation)     (None, 4, 4, 192)    0           ['batch_normalization_68[0][0]'] \n",
      "                                                                                                  \n",
      " activation_69 (Activation)     (None, 4, 4, 192)    0           ['batch_normalization_69[0][0]'] \n",
      "                                                                                                  \n",
      " mixed7 (Concatenate)           (None, 4, 4, 768)    0           ['activation_60[0][0]',          \n",
      "                                                                  'activation_63[0][0]',          \n",
      "                                                                  'activation_68[0][0]',          \n",
      "                                                                  'activation_69[0][0]']          \n",
      "                                                                                                  \n",
      " flatten (Flatten)              (None, 12288)        0           ['mixed7[0][0]']                 \n",
      "                                                                                                  \n",
      " dense (Dense)                  (None, 1024)         12583936    ['flatten[0][0]']                \n",
      "                                                                                                  \n",
      " dropout (Dropout)              (None, 1024)         0           ['dense[0][0]']                  \n",
      "                                                                                                  \n",
      " flatten_1 (Flatten)            (None, 1024)         0           ['dropout[0][0]']                \n",
      "                                                                                                  \n",
      " dense_1 (Dense)                (None, 256)          262400      ['flatten_1[0][0]']              \n",
      "                                                                                                  \n",
      " dropout_1 (Dropout)            (None, 256)          0           ['dense_1[0][0]']                \n",
      "                                                                                                  \n",
      " dense_2 (Dense)                (None, 3)            771         ['dropout_1[0][0]']              \n",
      "                                                                                                  \n",
      "==================================================================================================\n",
      "Total params: 21,822,371\n",
      "Trainable params: 12,847,107\n",
      "Non-trainable params: 8,975,264\n",
      "__________________________________________________________________________________________________\n"
     ]
    }
   ],
   "source": [
    "x = Flatten()(last)\n",
    "x = Dense(1024, activation='relu')(x)\n",
    "x = Dropout(0.3)(x)\n",
    "x = Flatten()(x)\n",
    "x = Dense(256, activation='relu')(x)\n",
    "x = Dropout(0.2)(x)\n",
    "#The Final layer with 3 outputs for 3 categories\n",
    "out = Dense(3, activation='softmax')(x)\n",
    "\n",
    "model = Model(inputs=base_model.input, outputs= out)\n",
    "\n",
    "model.summary()"
   ]
  },
  {
   "cell_type": "code",
   "execution_count": 21,
   "id": "bc1d384a",
   "metadata": {
    "execution": {
     "iopub.execute_input": "2023-04-24T17:10:39.080545Z",
     "iopub.status.busy": "2023-04-24T17:10:39.079908Z",
     "iopub.status.idle": "2023-04-24T17:10:39.104048Z",
     "shell.execute_reply": "2023-04-24T17:10:39.102907Z"
    },
    "papermill": {
     "duration": 0.075364,
     "end_time": "2023-04-24T17:10:39.106340",
     "exception": false,
     "start_time": "2023-04-24T17:10:39.030976",
     "status": "completed"
    },
    "tags": []
   },
   "outputs": [],
   "source": [
    "# model.compile(optimizer=tf.keras.optimizers.Adam(),\n",
    "#               loss=tf.keras.losses.SparseCategoricalCrossentropy(),\n",
    "#               metrics=['accuracy'])\n",
    "\n",
    "\n",
    "model.compile(optimizer=tf.keras.optimizers.Adam(learning_rate=1e-3),\n",
    "              loss=tf.keras.losses.CategoricalCrossentropy(),\n",
    "              metrics=['acc'])"
   ]
  },
  {
   "cell_type": "code",
   "execution_count": 22,
   "id": "3a288da3",
   "metadata": {
    "execution": {
     "iopub.execute_input": "2023-04-24T17:10:39.189504Z",
     "iopub.status.busy": "2023-04-24T17:10:39.189149Z",
     "iopub.status.idle": "2023-04-24T17:10:59.878405Z",
     "shell.execute_reply": "2023-04-24T17:10:59.877292Z"
    },
    "papermill": {
     "duration": 20.73306,
     "end_time": "2023-04-24T17:10:59.881010",
     "exception": false,
     "start_time": "2023-04-24T17:10:39.147950",
     "status": "completed"
    },
    "tags": []
   },
   "outputs": [
    {
     "name": "stdout",
     "output_type": "stream",
     "text": [
      "Epoch 1/25\n",
      "63/63 [==============================] - 14s 79ms/step - loss: 0.4675 - acc: 0.9087 - val_loss: 0.1893 - val_acc: 0.9369\n",
      "Epoch 2/25\n",
      "63/63 [==============================] - 2s 28ms/step - loss: 0.1186 - acc: 0.9574 - val_loss: 0.2548 - val_acc: 0.9322\n",
      "Epoch 3/25\n",
      "63/63 [==============================] - 2s 37ms/step - loss: 0.0940 - acc: 0.9714 - val_loss: 0.2599 - val_acc: 0.9428\n",
      "Epoch 4/25\n",
      "63/63 [==============================] - 2s 28ms/step - loss: 0.0534 - acc: 0.9845 - val_loss: 0.3513 - val_acc: 0.9241\n"
     ]
    }
   ],
   "source": [
    "checkpoint = tf.keras.callbacks.ModelCheckpoint(\n",
    "    filepath='/kaggle/working/data/model_{epoch:03d}.ckpt',\n",
    "    save_weights_only=True,\n",
    "    monitor='val_acc',\n",
    "    mode='max',\n",
    "    save_best_only=True, \n",
    "    verbose=0)\n",
    "early_stop = tf.keras.callbacks.EarlyStopping(monitor='val_loss', min_delta=0.02, patience=3, restore_best_weights=True)\n",
    "\n",
    "history = model.fit(X_train, \n",
    "                    Y_train, \n",
    "                    epochs=25, \n",
    "                    callbacks=[checkpoint,early_stop], \n",
    "                    validation_split=0.3)"
   ]
  },
  {
   "cell_type": "code",
   "execution_count": 23,
   "id": "0480d71f",
   "metadata": {
    "execution": {
     "iopub.execute_input": "2023-04-24T17:10:59.968264Z",
     "iopub.status.busy": "2023-04-24T17:10:59.967933Z",
     "iopub.status.idle": "2023-04-24T17:11:00.326396Z",
     "shell.execute_reply": "2023-04-24T17:11:00.325394Z"
    },
    "papermill": {
     "duration": 0.404667,
     "end_time": "2023-04-24T17:11:00.328703",
     "exception": false,
     "start_time": "2023-04-24T17:10:59.924036",
     "status": "completed"
    },
    "tags": []
   },
   "outputs": [
    {
     "data": {
      "image/png": "[encoded data removed]",
      "text/plain": [
       "<Figure size 1500x600 with 2 Axes>"
      ]
     },
     "metadata": {},
     "output_type": "display_data"
    }
   ],
   "source": [
    "# PLOT LOSS AND ACCURACY\n",
    "acc = history.history['acc']\n",
    "val_acc = history.history['val_acc']\n",
    "loss = history.history['loss']\n",
    "val_loss = history.history['val_loss']\n",
    "\n",
    "plt.figure(figsize=(15, 6))\n",
    "plt.subplot(121)\n",
    "plt.plot(acc, label='Training')\n",
    "plt.plot(val_acc, label='Validation')\n",
    "plt.title('Training and validation accuracy')\n",
    "plt.xlabel('epochs')\n",
    "plt.ylabel('accuracy')\n",
    "plt.legend()\n",
    "\n",
    "plt.subplot(122)\n",
    "plt.plot(loss, label='Training')\n",
    "plt.plot(val_loss, label='Validation')\n",
    "plt.title('Training and validation loss')\n",
    "plt.xlabel('epochs')\n",
    "plt.ylabel('loss')\n",
    "plt.legend()\n",
    "plt.show()"
   ]
  },
  {
   "cell_type": "markdown",
   "id": "9c221e93",
   "metadata": {
    "papermill": {
     "duration": 0.042761,
     "end_time": "2023-04-24T17:11:00.414919",
     "exception": false,
     "start_time": "2023-04-24T17:11:00.372158",
     "status": "completed"
    },
    "tags": []
   },
   "source": [
    "# Evaluation"
   ]
  },
  {
   "cell_type": "code",
   "execution_count": 24,
   "id": "118a0d2a",
   "metadata": {
    "execution": {
     "iopub.execute_input": "2023-04-24T17:11:00.503303Z",
     "iopub.status.busy": "2023-04-24T17:11:00.502409Z",
     "iopub.status.idle": "2023-04-24T17:11:01.680614Z",
     "shell.execute_reply": "2023-04-24T17:11:01.679623Z"
    },
    "papermill": {
     "duration": 1.224733,
     "end_time": "2023-04-24T17:11:01.682790",
     "exception": false,
     "start_time": "2023-04-24T17:11:00.458057",
     "status": "completed"
    },
    "tags": []
   },
   "outputs": [
    {
     "name": "stdout",
     "output_type": "stream",
     "text": [
      "39/39 [==============================] - 1s 20ms/step - loss: 0.1920 - acc: 0.9411\n"
     ]
    },
    {
     "data": {
      "text/plain": [
       "[0.19203411042690277, 0.9410802125930786]"
      ]
     },
     "execution_count": 24,
     "metadata": {},
     "output_type": "execute_result"
    }
   ],
   "source": [
    "model.evaluate(X_test, Y_test)\n"
   ]
  },
  {
   "cell_type": "code",
   "execution_count": 25,
   "id": "8f13f9bd",
   "metadata": {
    "execution": {
     "iopub.execute_input": "2023-04-24T17:11:01.773045Z",
     "iopub.status.busy": "2023-04-24T17:11:01.772725Z",
     "iopub.status.idle": "2023-04-24T17:11:02.016523Z",
     "shell.execute_reply": "2023-04-24T17:11:02.015511Z"
    },
    "papermill": {
     "duration": 0.291671,
     "end_time": "2023-04-24T17:11:02.019250",
     "exception": false,
     "start_time": "2023-04-24T17:11:01.727579",
     "status": "completed"
    },
    "tags": []
   },
   "outputs": [],
   "source": [
    "import seaborn as sns"
   ]
  },
  {
   "cell_type": "code",
   "execution_count": 26,
   "id": "bdb872c5",
   "metadata": {
    "execution": {
     "iopub.execute_input": "2023-04-24T17:11:02.109150Z",
     "iopub.status.busy": "2023-04-24T17:11:02.108816Z",
     "iopub.status.idle": "2023-04-24T17:11:04.890774Z",
     "shell.execute_reply": "2023-04-24T17:11:04.889720Z"
    },
    "papermill": {
     "duration": 2.830041,
     "end_time": "2023-04-24T17:11:04.893718",
     "exception": false,
     "start_time": "2023-04-24T17:11:02.063677",
     "status": "completed"
    },
    "tags": []
   },
   "outputs": [
    {
     "name": "stdout",
     "output_type": "stream",
     "text": [
      "39/39 [==============================] - 2s 15ms/step\n"
     ]
    },
    {
     "data": {
      "image/png": "[encoded data removed]",
      "text/plain": [
       "<Figure size 640x480 with 2 Axes>"
      ]
     },
     "metadata": {},
     "output_type": "display_data"
    }
   ],
   "source": [
    "Y_pred = np.argmax(model.predict(X_test), axis=1)\n",
    "Y_test = np.argmax(Y_test, axis=1)\n",
    "sns.heatmap(confusion_matrix(Y_test, Y_pred), annot=True, fmt='g', cmap=plt.cm.Blues)\n",
    "plt.xlabel('Predicted label')\n",
    "plt.ylabel('True label')\n",
    "plt.show()"
   ]
  },
  {
   "cell_type": "code",
   "execution_count": 27,
   "id": "3b3e8e91",
   "metadata": {
    "execution": {
     "iopub.execute_input": "2023-04-24T17:11:04.986310Z",
     "iopub.status.busy": "2023-04-24T17:11:04.985966Z",
     "iopub.status.idle": "2023-04-24T17:11:05.619113Z",
     "shell.execute_reply": "2023-04-24T17:11:05.617973Z"
    },
    "papermill": {
     "duration": 0.682264,
     "end_time": "2023-04-24T17:11:05.622052",
     "exception": false,
     "start_time": "2023-04-24T17:11:04.939788",
     "status": "completed"
    },
    "tags": []
   },
   "outputs": [],
   "source": [
    "model.save('/kaggle/working/data/mymodel.h5')"
   ]
  },
  {
   "cell_type": "code",
   "execution_count": 28,
   "id": "feea85a4",
   "metadata": {
    "execution": {
     "iopub.execute_input": "2023-04-24T17:11:05.715017Z",
     "iopub.status.busy": "2023-04-24T17:11:05.714663Z",
     "iopub.status.idle": "2023-04-24T17:11:06.735341Z",
     "shell.execute_reply": "2023-04-24T17:11:06.734075Z"
    },
    "papermill": {
     "duration": 1.070317,
     "end_time": "2023-04-24T17:11:06.738318",
     "exception": false,
     "start_time": "2023-04-24T17:11:05.668001",
     "status": "completed"
    },
    "tags": []
   },
   "outputs": [
    {
     "name": "stdout",
     "output_type": "stream",
     "text": [
      "X.npy\t\t\t\t    model_001.ckpt.index\r\n",
      "Y.npy\t\t\t\t    model_003.ckpt.data-00000-of-00001\r\n",
      "category2label.pkl\t\t    model_003.ckpt.index\r\n",
      "checkpoint\t\t\t    mymodel.h5\r\n",
      "model_001.ckpt.data-00000-of-00001\r\n"
     ]
    }
   ],
   "source": [
    "!ls $\"/kaggle/working/data\""
   ]
  }
 ],
 "metadata": {
  "kernelspec": {
   "display_name": "Python 3",
   "language": "python",
   "name": "python3"
  },
  "language_info": {
   "codemirror_mode": {
    "name": "ipython",
    "version": 3
   },
   "file_extension": ".py",
   "mimetype": "text/x-python",
   "name": "python",
   "nbconvert_exporter": "python",
   "pygments_lexer": "ipython3",
   "version": "3.10.9"
  },
  "papermill": {
   "default_parameters": {},
   "duration": 77.852779,
   "end_time": "2023-04-24T17:11:10.325555",
   "environment_variables": {},
   "exception": null,
   "input_path": "__notebook__.ipynb",
   "output_path": "__notebook__.ipynb",
   "parameters": {},
   "start_time": "2023-04-24T17:09:52.472776",
   "version": "2.4.0"
  }
 },
 "nbformat": 4,
 "nbformat_minor": 5
}
